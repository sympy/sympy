{
 "metadata": {
  "name": "",
  "signature": "sha256:5fd36f9bd80be8344f763c3b654f4eebb88233a712d2624e82243afe2d957b19"
 },
 "nbformat": 3,
 "nbformat_minor": 0,
 "worksheets": [
  {
   "cells": [
    {
     "cell_type": "markdown",
     "metadata": {},
     "source": [
      "#The use of lambdify() function to evaluate numerical results faster"
     ]
    },
    {
     "cell_type": "markdown",
     "metadata": {},
     "source": [
      "Since SymPy is primarily a symbolic mathematical library, numerical computation though possible by `evalf()` method and `N()` function, is slow.\n",
      "\n",
      "The `sympy.utilities.lambdify` module is used to transform sympy expressions to lambda functions which can calculate numerical values more efficiently.\n",
      "\n"
     ]
    },
    {
     "cell_type": "markdown",
     "metadata": {},
     "source": [
      "\n",
      "If not specified differently by the user, SymPy functions are replaced as far as possible by either python-math, numpy (if available) or mpmath functions - exactly in this order. \n",
      "\n",
      "\n",
      "We will investigate the effect of `lambdify` function with `numpy` module on the speed of numerical computation  and compare it with computation in SymPy natively. \n",
      "\n",
      "**The results will vary depending on the system configuration**\n",
      "\n",
      "\n",
      "   "
     ]
    },
    {
     "cell_type": "markdown",
     "metadata": {},
     "source": [
      "\n",
      "##Using the `lambdify()` function. "
     ]
    },
    {
     "cell_type": "code",
     "collapsed": false,
     "input": [
      "from IPython.display import display\n",
      "from sympy.interactive import printing\n",
      "printing.init_printing(use_latex='mathjax')\n",
      "from __future__ import division\n",
      "import sympy as sym\n",
      "from sympy import *\n",
      "import numpy as np\n",
      "from numpy import *"
     ],
     "language": "python",
     "metadata": {},
     "outputs": [],
     "prompt_number": 1
    },
    {
     "cell_type": "markdown",
     "metadata": {},
     "source": [
      "###Example use on $x^{2}$"
     ]
    },
    {
     "cell_type": "markdown",
     "metadata": {},
     "source": [
      "\n",
      "\n",
      "Defining a SymPy symbol `xs`"
     ]
    },
    {
     "cell_type": "code",
     "collapsed": false,
     "input": [
      "xs = symbols('x')"
     ],
     "language": "python",
     "metadata": {},
     "outputs": [],
     "prompt_number": 2
    },
    {
     "cell_type": "markdown",
     "metadata": {},
     "source": [
      "Creating a symbolic function fn"
     ]
    },
    {
     "cell_type": "code",
     "collapsed": false,
     "input": [
      "fn = xs**2\n",
      "fn"
     ],
     "language": "python",
     "metadata": {},
     "outputs": [
      {
       "latex": [
        "$$x^{2}$$"
       ],
       "metadata": {},
       "output_type": "pyout",
       "prompt_number": 3,
       "text": [
        " 2\n",
        "x "
       ]
      }
     ],
     "prompt_number": 3
    },
    {
     "cell_type": "markdown",
     "metadata": {},
     "source": [
      "Now using the `lambdified` function on fn"
     ]
    },
    {
     "cell_type": "code",
     "collapsed": false,
     "input": [
      "fn_lambdified = lambdify(xs,xs**2)"
     ],
     "language": "python",
     "metadata": {},
     "outputs": [],
     "prompt_number": 4
    },
    {
     "cell_type": "markdown",
     "metadata": {},
     "source": [
      "Using `numpy` modules `linspace` to create an array x with 1000 datapoints between 0 & 1"
     ]
    },
    {
     "cell_type": "code",
     "collapsed": false,
     "input": [
      "x = np.linspace(0,1,1000)"
     ],
     "language": "python",
     "metadata": {},
     "outputs": [],
     "prompt_number": 5
    },
    {
     "cell_type": "markdown",
     "metadata": {},
     "source": [
      "Using IPython Notebook command **`%timeit`** to record the time taken to run the command"
     ]
    },
    {
     "cell_type": "code",
     "collapsed": false,
     "input": [
      "%timeit fn_lambdified(x)"
     ],
     "language": "python",
     "metadata": {},
     "outputs": [
      {
       "output_type": "stream",
       "stream": "stdout",
       "text": [
        "1000000 loops, best of 3: 1.98 \u00b5s per loop\n"
       ]
      }
     ],
     "prompt_number": 6
    },
    {
     "cell_type": "markdown",
     "metadata": {},
     "source": [
      "\n",
      "Comparing this with the time taken to run the same numerical calcuation in Sympy natively"
     ]
    },
    {
     "cell_type": "code",
     "collapsed": false,
     "input": [
      "%timeit ans= [fn.evalf(subs={xs: i}) for i in x]"
     ],
     "language": "python",
     "metadata": {},
     "outputs": [
      {
       "output_type": "stream",
       "stream": "stdout",
       "text": [
        "10 loops, best of 3: 58 ms per loop\n"
       ]
      }
     ],
     "prompt_number": 7
    },
    {
     "cell_type": "markdown",
     "metadata": {},
     "source": [
      "The difference is of the order 25000x on the test machine having Intel\u00ae Core\u2122 i5-3210M CPU @ 2.50GHz on a 64-bit Ubuntu 14.04 installation."
     ]
    },
    {
     "cell_type": "markdown",
     "metadata": {},
     "source": [
      "\n",
      "_____________\n",
      "\n",
      "\n",
      "##Taylor series expansion of $e^{x}$\n",
      "\n",
      "Now, taking a more robust example to study the variation of runtime with increasing complexity of the base function. \n",
      "We will use a Taylor series expansion of varying degree for the exponential function : $e^{x}$"
     ]
    },
    {
     "cell_type": "markdown",
     "metadata": {},
     "source": [
      "\n",
      "Defining the function:"
     ]
    },
    {
     "cell_type": "code",
     "collapsed": false,
     "input": [
      "fn = E**xs\n",
      "fn"
     ],
     "language": "python",
     "metadata": {},
     "outputs": [
      {
       "latex": [
        "$$e^{x}$$"
       ],
       "metadata": {},
       "output_type": "pyout",
       "prompt_number": 8,
       "text": [
        " x\n",
        "\u212f "
       ]
      }
     ],
     "prompt_number": 8
    },
    {
     "cell_type": "markdown",
     "metadata": {},
     "source": [
      "\n",
      "###Creating a 5th order Taylor series expansion"
     ]
    },
    {
     "cell_type": "code",
     "collapsed": false,
     "input": [
      "fn_taylor = fn.series(xs,0,6).removeO()\n",
      "fn_taylor"
     ],
     "language": "python",
     "metadata": {},
     "outputs": [
      {
       "latex": [
        "$$\\frac{x^{5}}{120} + \\frac{x^{4}}{24} + \\frac{x^{3}}{6} + \\frac{x^{2}}{2} + x + 1$$"
       ],
       "metadata": {},
       "output_type": "pyout",
       "prompt_number": 9,
       "text": [
        "  5    4    3    2        \n",
        " x    x    x    x         \n",
        "\u2500\u2500\u2500 + \u2500\u2500 + \u2500\u2500 + \u2500\u2500 + x + 1\n",
        "120   24   6    2         "
       ]
      }
     ],
     "prompt_number": 9
    },
    {
     "cell_type": "markdown",
     "metadata": {},
     "source": [
      "Using the `lambdify()` function and timing the operation for both cases\n",
      "\n",
      "________"
     ]
    },
    {
     "cell_type": "code",
     "collapsed": false,
     "input": [
      "fn_taylor_lambdified = lambdify(xs, fn_taylor, modules=['numpy'])\n",
      "%timeit fn_taylor_lambdified(x)"
     ],
     "language": "python",
     "metadata": {},
     "outputs": [
      {
       "output_type": "stream",
       "stream": "stdout",
       "text": [
        "1000 loops, best of 3: 281 \u00b5s per loop\n"
       ]
      }
     ],
     "prompt_number": 10
    },
    {
     "cell_type": "code",
     "collapsed": false,
     "input": [
      "%timeit ans = [fn.evalf(subs={xs: i}) for i in x]"
     ],
     "language": "python",
     "metadata": {},
     "outputs": [
      {
       "output_type": "stream",
       "stream": "stdout",
       "text": [
        "10 loops, best of 3: 77.3 ms per loop\n"
       ]
      }
     ],
     "prompt_number": 11
    },
    {
     "cell_type": "markdown",
     "metadata": {},
     "source": [
      "________\n",
      "\n",
      "\n",
      "High-precision calculations can be slow, one option is to install gmpy (http://code.google.com/p/gmpy/), which will significantly speed up computations such as the one above."
     ]
    }
   ],
   "metadata": {}
  }
 ]
}